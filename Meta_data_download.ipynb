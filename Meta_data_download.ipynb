{
 "cells": [
  {
   "cell_type": "code",
   "execution_count": 1,
   "metadata": {},
   "outputs": [],
   "source": [
    "import numpy as np\n",
    "from scipy.io import loadmat\n",
    "import pandas as pd\n",
    "import datetime as date\n",
    "from dateutil.relativedelta import relativedelta"
   ]
  },
  {
   "cell_type": "code",
   "execution_count": 2,
   "metadata": {},
   "outputs": [],
   "source": [
    "cols = ['age', 'gender', 'path', 'face_score1', 'face_score2']"
   ]
  },
  {
   "cell_type": "code",
   "execution_count": 3,
   "metadata": {},
   "outputs": [],
   "source": [
    "imdb_mat = 'C:/Users/chris/OneDrive/Documents/Bewerbungsunterlagen/Job Unterlagen/Pre-Doc Chicago/imdb_crop/imdb.mat'\n",
    "wiki_mat = 'C:/Users/chris/OneDrive/Documents/Bewerbungsunterlagen/Job Unterlagen/Pre-Doc Chicago/wiki_crop/wiki.mat'"
   ]
  },
  {
   "cell_type": "code",
   "execution_count": 4,
   "metadata": {},
   "outputs": [],
   "source": [
    "imdb_data = loadmat(imdb_mat)\n",
    "wiki_data = loadmat(wiki_mat)"
   ]
  },
  {
   "cell_type": "code",
   "execution_count": 5,
   "metadata": {},
   "outputs": [],
   "source": [
    "del imdb_mat, wiki_mat"
   ]
  },
  {
   "cell_type": "code",
   "execution_count": 6,
   "metadata": {},
   "outputs": [
    {
     "data": {
      "text/plain": [
       "dict_keys(['__header__', '__version__', '__globals__', 'imdb'])"
      ]
     },
     "execution_count": 6,
     "metadata": {},
     "output_type": "execute_result"
    }
   ],
   "source": [
    "imdb_data.keys()"
   ]
  },
  {
   "cell_type": "code",
   "execution_count": 7,
   "metadata": {},
   "outputs": [
    {
     "data": {
      "text/plain": [
       "dict_keys(['__header__', '__version__', '__globals__', 'wiki'])"
      ]
     },
     "execution_count": 7,
     "metadata": {},
     "output_type": "execute_result"
    }
   ],
   "source": [
    "wiki_data.keys()"
   ]
  },
  {
   "cell_type": "code",
   "execution_count": 8,
   "metadata": {},
   "outputs": [],
   "source": [
    "imdb = imdb_data['imdb']\n",
    "wiki = wiki_data['wiki']"
   ]
  },
  {
   "cell_type": "code",
   "execution_count": 9,
   "metadata": {},
   "outputs": [
    {
     "data": {
      "text/plain": [
       "numpy.ndarray"
      ]
     },
     "execution_count": 9,
     "metadata": {},
     "output_type": "execute_result"
    }
   ],
   "source": [
    "type(imdb)"
   ]
  },
  {
   "cell_type": "code",
   "execution_count": 10,
   "metadata": {},
   "outputs": [
    {
     "data": {
      "text/plain": [
       "(1, 1)"
      ]
     },
     "execution_count": 10,
     "metadata": {},
     "output_type": "execute_result"
    }
   ],
   "source": [
    "imdb.shape"
   ]
  },
  {
   "cell_type": "code",
   "execution_count": 11,
   "metadata": {},
   "outputs": [],
   "source": [
    "imdb_photo_taken = imdb[0][0][1][0]\n",
    "imdb_full_path = imdb[0][0][2][0]\n",
    "imdb_gender = imdb[0][0][3][0]\n",
    "imdb_face_score1 = imdb[0][0][6][0]\n",
    "imdb_face_score2 = imdb[0][0][7][0]"
   ]
  },
  {
   "cell_type": "code",
   "execution_count": 12,
   "metadata": {},
   "outputs": [],
   "source": [
    "wiki_photo_taken = wiki[0][0][1][0]\n",
    "wiki_full_path = wiki[0][0][2][0]\n",
    "wiki_gender = wiki[0][0][3][0]\n",
    "wiki_face_score1 = wiki[0][0][6][0]\n",
    "wiki_face_score2 = wiki[0][0][7][0]"
   ]
  },
  {
   "cell_type": "code",
   "execution_count": 13,
   "metadata": {},
   "outputs": [],
   "source": [
    "imdb_path = []\n",
    "wiki_path = []"
   ]
  },
  {
   "cell_type": "code",
   "execution_count": 14,
   "metadata": {},
   "outputs": [],
   "source": [
    "# Ist mein Speicherort das Problem?\n",
    "for path in imdb_full_path:\n",
    "    imdb_path.append('C:/Users/chris/OneDrive/Documents/Bewerbungsunterlagen/Job Unterlagen/Pre-Doc Chicago/imdb_crop/' + path[0])"
   ]
  },
  {
   "cell_type": "code",
   "execution_count": 15,
   "metadata": {},
   "outputs": [],
   "source": [
    "for path in wiki_full_path:\n",
    "    wiki_path.append('C:/Users/chris/OneDrive/Documents/Bewerbungsunterlagen/Job Unterlagen/Pre-Doc Chicago/wiki_crop/' + path[0])"
   ]
  },
  {
   "cell_type": "code",
   "execution_count": 16,
   "metadata": {},
   "outputs": [],
   "source": [
    "imdb_genders = []\n",
    "wiki_genders = []"
   ]
  },
  {
   "cell_type": "code",
   "execution_count": 17,
   "metadata": {},
   "outputs": [],
   "source": [
    "for n in range(len(imdb_gender)):\n",
    "    if imdb_gender[n] == 1:\n",
    "        imdb_genders.append('male')\n",
    "    else:\n",
    "        imdb_genders.append('female')"
   ]
  },
  {
   "cell_type": "code",
   "execution_count": 18,
   "metadata": {},
   "outputs": [],
   "source": [
    "for n in range(len(wiki_gender)):\n",
    "    if wiki_gender[n] == 1:\n",
    "        wiki_genders.append('male')\n",
    "    else:\n",
    "        wiki_genders.append('female')"
   ]
  },
  {
   "cell_type": "code",
   "execution_count": 19,
   "metadata": {},
   "outputs": [],
   "source": [
    "imdb_dob = []\n",
    "wiki_dob = []"
   ]
  },
  {
   "cell_type": "code",
   "execution_count": 20,
   "metadata": {},
   "outputs": [],
   "source": [
    "for file in imdb_path:\n",
    "    temp = file.split('_')[3]\n",
    "    temp = temp.split('-')\n",
    "    if len(temp[1]) == 1:\n",
    "        temp[1] = '0' + temp[1]\n",
    "    if len(temp[2]) == 1:\n",
    "        temp[2] = '0' + temp[2]\n",
    "    if temp[1] == '00':\n",
    "        temp[1] = '01'\n",
    "    if temp[2] == '00':\n",
    "        temp[2] = '01'\n",
    "        \n",
    "    imdb_dob.append('-'.join(temp))"
   ]
  },
  {
   "cell_type": "code",
   "execution_count": 21,
   "metadata": {},
   "outputs": [],
   "source": [
    "for file in wiki_path:\n",
    "    wiki_dob.append(file.split('_')[2])"
   ]
  },
  {
   "cell_type": "code",
   "execution_count": 22,
   "metadata": {},
   "outputs": [],
   "source": [
    "imdb_age = []\n",
    "wiki_age = []"
   ]
  },
  {
   "cell_type": "code",
   "execution_count": 23,
   "metadata": {},
   "outputs": [
    {
     "name": "stdout",
     "output_type": "stream",
     "text": [
      "time data '0-12-22' does not match format '%Y-%m-%d'\n",
      "time data '0-05-21' does not match format '%Y-%m-%d'\n",
      "time data '0-11-18' does not match format '%Y-%m-%d'\n",
      "time data '0-11-18' does not match format '%Y-%m-%d'\n",
      "time data '0-11-18' does not match format '%Y-%m-%d'\n",
      "time data '0-07-31' does not match format '%Y-%m-%d'\n",
      "time data '0-07-31' does not match format '%Y-%m-%d'\n",
      "time data '0-07-31' does not match format '%Y-%m-%d'\n",
      "time data '0-07-31' does not match format '%Y-%m-%d'\n",
      "time data '0-07-31' does not match format '%Y-%m-%d'\n",
      "time data '0-07-31' does not match format '%Y-%m-%d'\n",
      "time data '0-07-31' does not match format '%Y-%m-%d'\n",
      "time data '0-07-31' does not match format '%Y-%m-%d'\n",
      "time data '0-07-31' does not match format '%Y-%m-%d'\n",
      "time data '0-07-31' does not match format '%Y-%m-%d'\n",
      "time data '0-07-31' does not match format '%Y-%m-%d'\n",
      "time data '0-07-31' does not match format '%Y-%m-%d'\n",
      "time data '0-07-31' does not match format '%Y-%m-%d'\n",
      "time data '0-07-31' does not match format '%Y-%m-%d'\n",
      "time data '0-07-31' does not match format '%Y-%m-%d'\n",
      "time data '0-07-31' does not match format '%Y-%m-%d'\n",
      "time data '0-07-31' does not match format '%Y-%m-%d'\n",
      "time data '0-07-31' does not match format '%Y-%m-%d'\n",
      "time data '0-07-31' does not match format '%Y-%m-%d'\n",
      "time data '0-07-31' does not match format '%Y-%m-%d'\n",
      "time data '0-10-20' does not match format '%Y-%m-%d'\n",
      "time data '0-08-19' does not match format '%Y-%m-%d'\n",
      "time data '0-08-07' does not match format '%Y-%m-%d'\n",
      "time data '0-08-07' does not match format '%Y-%m-%d'\n",
      "time data '0-09-08' does not match format '%Y-%m-%d'\n",
      "time data '0-11-19' does not match format '%Y-%m-%d'\n",
      "time data '0-11-19' does not match format '%Y-%m-%d'\n",
      "time data '0-08-05' does not match format '%Y-%m-%d'\n",
      "time data '0-08-05' does not match format '%Y-%m-%d'\n",
      "time data '0-08-05' does not match format '%Y-%m-%d'\n",
      "time data '0-08-05' does not match format '%Y-%m-%d'\n",
      "time data '0-08-05' does not match format '%Y-%m-%d'\n",
      "time data '0-08-27' does not match format '%Y-%m-%d'\n",
      "time data '0-08-27' does not match format '%Y-%m-%d'\n",
      "time data '0-08-27' does not match format '%Y-%m-%d'\n",
      "time data '0-07-08' does not match format '%Y-%m-%d'\n",
      "time data '0-05-05' does not match format '%Y-%m-%d'\n",
      "time data '0-05-05' does not match format '%Y-%m-%d'\n",
      "time data '0-03-15' does not match format '%Y-%m-%d'\n",
      "time data '0-03-15' does not match format '%Y-%m-%d'\n",
      "time data '0-12-29' does not match format '%Y-%m-%d'\n",
      "time data '0-08-21' does not match format '%Y-%m-%d'\n",
      "time data '0-08-21' does not match format '%Y-%m-%d'\n",
      "time data '0-08-21' does not match format '%Y-%m-%d'\n",
      "time data '0-08-21' does not match format '%Y-%m-%d'\n",
      "time data '0-08-21' does not match format '%Y-%m-%d'\n",
      "time data '0-02-16' does not match format '%Y-%m-%d'\n",
      "time data '0-02-16' does not match format '%Y-%m-%d'\n",
      "time data '0-12-10' does not match format '%Y-%m-%d'\n",
      "time data '0-10-17' does not match format '%Y-%m-%d'\n",
      "time data '0-08-08' does not match format '%Y-%m-%d'\n",
      "time data '0-08-08' does not match format '%Y-%m-%d'\n",
      "time data '0-08-08' does not match format '%Y-%m-%d'\n",
      "time data '0-08-08' does not match format '%Y-%m-%d'\n",
      "time data '0-08-08' does not match format '%Y-%m-%d'\n",
      "time data '0-08-08' does not match format '%Y-%m-%d'\n",
      "time data '0-08-08' does not match format '%Y-%m-%d'\n",
      "time data '0-08-08' does not match format '%Y-%m-%d'\n",
      "time data '0-08-08' does not match format '%Y-%m-%d'\n",
      "time data '0-08-08' does not match format '%Y-%m-%d'\n",
      "time data '0-08-08' does not match format '%Y-%m-%d'\n",
      "time data '0-09-02' does not match format '%Y-%m-%d'\n",
      "time data '0-12-28' does not match format '%Y-%m-%d'\n",
      "time data '0-02-22' does not match format '%Y-%m-%d'\n",
      "time data '0-02-22' does not match format '%Y-%m-%d'\n",
      "time data '0-02-22' does not match format '%Y-%m-%d'\n",
      "time data '0-02-22' does not match format '%Y-%m-%d'\n",
      "time data '0-09-05' does not match format '%Y-%m-%d'\n",
      "time data '0-09-05' does not match format '%Y-%m-%d'\n",
      "time data '0-07-10' does not match format '%Y-%m-%d'\n",
      "time data '0-06-23' does not match format '%Y-%m-%d'\n",
      "time data '0-06-23' does not match format '%Y-%m-%d'\n",
      "time data '0-06-23' does not match format '%Y-%m-%d'\n",
      "time data '0-06-23' does not match format '%Y-%m-%d'\n",
      "time data '0-06-23' does not match format '%Y-%m-%d'\n",
      "time data '0-06-23' does not match format '%Y-%m-%d'\n",
      "time data '0-06-23' does not match format '%Y-%m-%d'\n",
      "time data '0-06-23' does not match format '%Y-%m-%d'\n",
      "time data '0-12-10' does not match format '%Y-%m-%d'\n",
      "time data '0-12-10' does not match format '%Y-%m-%d'\n",
      "time data '0-12-10' does not match format '%Y-%m-%d'\n",
      "time data '0-12-10' does not match format '%Y-%m-%d'\n",
      "time data '0-12-10' does not match format '%Y-%m-%d'\n",
      "time data '0-12-10' does not match format '%Y-%m-%d'\n",
      "time data '0-10-07' does not match format '%Y-%m-%d'\n",
      "time data '0-09-20' does not match format '%Y-%m-%d'\n",
      "time data '0-09-20' does not match format '%Y-%m-%d'\n",
      "time data '0-12-17' does not match format '%Y-%m-%d'\n",
      "time data '0-12-17' does not match format '%Y-%m-%d'\n",
      "time data '0-12-17' does not match format '%Y-%m-%d'\n",
      "time data '0-12-17' does not match format '%Y-%m-%d'\n",
      "time data '0-12-17' does not match format '%Y-%m-%d'\n",
      "time data '0-12-17' does not match format '%Y-%m-%d'\n",
      "time data '0-12-17' does not match format '%Y-%m-%d'\n",
      "time data '0-12-17' does not match format '%Y-%m-%d'\n",
      "time data '0-12-17' does not match format '%Y-%m-%d'\n",
      "time data '0-12-17' does not match format '%Y-%m-%d'\n",
      "time data '0-12-17' does not match format '%Y-%m-%d'\n",
      "time data '0-11-29' does not match format '%Y-%m-%d'\n",
      "time data '0-04-12' does not match format '%Y-%m-%d'\n",
      "time data '0-07-22' does not match format '%Y-%m-%d'\n",
      "time data '0-07-10' does not match format '%Y-%m-%d'\n",
      "time data '0-07-10' does not match format '%Y-%m-%d'\n",
      "time data '0-07-10' does not match format '%Y-%m-%d'\n",
      "time data '0-07-10' does not match format '%Y-%m-%d'\n",
      "time data '0-11-06' does not match format '%Y-%m-%d'\n",
      "time data '0-10-02' does not match format '%Y-%m-%d'\n",
      "time data '0-10-02' does not match format '%Y-%m-%d'\n",
      "time data '0-09-09' does not match format '%Y-%m-%d'\n",
      "time data '0-09-09' does not match format '%Y-%m-%d'\n",
      "time data '0-09-09' does not match format '%Y-%m-%d'\n",
      "time data '0-09-09' does not match format '%Y-%m-%d'\n",
      "time data '0-09-09' does not match format '%Y-%m-%d'\n",
      "time data '0-09-07' does not match format '%Y-%m-%d'\n",
      "time data '0-09-07' does not match format '%Y-%m-%d'\n",
      "time data '0-09-07' does not match format '%Y-%m-%d'\n",
      "time data '0-09-07' does not match format '%Y-%m-%d'\n",
      "time data '0-11-13' does not match format '%Y-%m-%d'\n",
      "time data '0-07-27' does not match format '%Y-%m-%d'\n",
      "time data '0-07-27' does not match format '%Y-%m-%d'\n",
      "time data '0-07-27' does not match format '%Y-%m-%d'\n",
      "time data '0-07-27' does not match format '%Y-%m-%d'\n",
      "time data '0-07-27' does not match format '%Y-%m-%d'\n",
      "time data '0-07-27' does not match format '%Y-%m-%d'\n",
      "time data '829-09-08' does not match format '%Y-%m-%d'\n",
      "time data '1823-12-00' does not match format '%Y-%m-%d'\n",
      "time data '1953-10-00' does not match format '%Y-%m-%d'\n",
      "time data '1984-15-03' does not match format '%Y-%m-%d'\n",
      "time data '1963-02-00' does not match format '%Y-%m-%d'\n",
      "time data '1977-04-00' does not match format '%Y-%m-%d'\n",
      "time data '1946-05-00' does not match format '%Y-%m-%d'\n",
      "time data '647-05-15' does not match format '%Y-%m-%d'\n",
      "time data '11-03-00' does not match format '%Y-%m-%d'\n",
      "time data '1980-05-00' does not match format '%Y-%m-%d'\n",
      "time data '1960-02-00' does not match format '%Y-%m-%d'\n",
      "time data '1975-03-00' does not match format '%Y-%m-%d'\n",
      "time data '1952-11-00' does not match format '%Y-%m-%d'\n",
      "time data '1974-04-00' does not match format '%Y-%m-%d'\n",
      "time data '1996-25-05' does not match format '%Y-%m-%d'\n",
      "time data '1914-02-00' does not match format '%Y-%m-%d'\n"
     ]
    }
   ],
   "source": [
    "for i in range(len(imdb_dob)):\n",
    "    try:\n",
    "        d1 = date.datetime.strptime(imdb_dob[i][0:10], '%Y-%m-%d')\n",
    "        d2 = date.datetime.strptime(str(imdb_photo_taken[i]), '%Y')\n",
    "        rdelta = relativedelta(d2, d1)\n",
    "        diff = rdelta.years\n",
    "    except Exception as ex:\n",
    "        print(ex)\n",
    "        diff = -1\n",
    "    imdb_age.append(diff)\n",
    "\n",
    "for i in range(len(wiki_dob)):\n",
    "    try:\n",
    "        d1 = date.datetime.strptime(wiki_dob[i][0:10], '%Y-%m-%d')\n",
    "        d2 = date.datetime.strptime(str(wiki_photo_taken[i]), '%Y')\n",
    "        rdelta = relativedelta(d2, d1)\n",
    "        diff = rdelta.years\n",
    "    except Exception as ex:\n",
    "        print(ex)\n",
    "        diff = -1\n",
    "    wiki_age.append(diff)"
   ]
  },
  {
   "cell_type": "code",
   "execution_count": 24,
   "metadata": {},
   "outputs": [],
   "source": [
    "final_imdb = np.vstack((imdb_age, imdb_genders, imdb_path, imdb_face_score1, imdb_face_score2)).T\n",
    "final_wiki = np.vstack((wiki_age, wiki_genders, wiki_path, wiki_face_score1, wiki_face_score2)).T"
   ]
  },
  {
   "cell_type": "code",
   "execution_count": 25,
   "metadata": {},
   "outputs": [],
   "source": [
    "final_imdb_df = pd.DataFrame(final_imdb)\n",
    "final_wiki_df = pd.DataFrame(final_wiki)"
   ]
  },
  {
   "cell_type": "code",
   "execution_count": 26,
   "metadata": {},
   "outputs": [],
   "source": [
    "final_imdb_df.columns = cols\n",
    "final_wiki_df.columns = cols"
   ]
  },
  {
   "cell_type": "code",
   "execution_count": 27,
   "metadata": {},
   "outputs": [],
   "source": [
    "final_imdb = np.vstack((imdb_age, imdb_genders, imdb_path, imdb_face_score1, imdb_face_score2)).T\n",
    "final_wiki = np.vstack((wiki_age, wiki_genders, wiki_path, wiki_face_score1, wiki_face_score2)).T"
   ]
  },
  {
   "cell_type": "code",
   "execution_count": 28,
   "metadata": {},
   "outputs": [],
   "source": [
    "meta = pd.concat((final_imdb_df, final_wiki_df))"
   ]
  },
  {
   "cell_type": "code",
   "execution_count": 29,
   "metadata": {},
   "outputs": [],
   "source": [
    "meta = meta[meta['face_score1'] != '-inf']\n",
    "meta = meta[meta['face_score2'] == 'nan']"
   ]
  },
  {
   "cell_type": "code",
   "execution_count": 30,
   "metadata": {},
   "outputs": [],
   "source": [
    "meta = meta.drop(['face_score1', 'face_score2'], axis=1)"
   ]
  },
  {
   "cell_type": "code",
   "execution_count": 31,
   "metadata": {},
   "outputs": [],
   "source": [
    "meta = meta.sample(frac=1)"
   ]
  },
  {
   "cell_type": "code",
   "execution_count": 32,
   "metadata": {},
   "outputs": [],
   "source": [
    "meta.to_csv('meta.csv', index=False)"
   ]
  },
  {
   "cell_type": "code",
   "execution_count": 33,
   "metadata": {},
   "outputs": [],
   "source": [
    "meta.to_csv(r'C:/Users/chris/OneDrive/Documents/Bewerbungsunterlagen/Job Unterlagen/Pre-Doc Chicago/meta.csv', index=False)"
   ]
  }
 ],
 "metadata": {
  "kernelspec": {
   "display_name": "Python 3",
   "language": "python",
   "name": "python3"
  },
  "language_info": {
   "codemirror_mode": {
    "name": "ipython",
    "version": 3
   },
   "file_extension": ".py",
   "mimetype": "text/x-python",
   "name": "python",
   "nbconvert_exporter": "python",
   "pygments_lexer": "ipython3",
   "version": "3.8.3"
  }
 },
 "nbformat": 4,
 "nbformat_minor": 4
}
